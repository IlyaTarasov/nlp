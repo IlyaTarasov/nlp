{
  "cells": [
    {
      "cell_type": "code",
      "execution_count": 5,
      "metadata": {
        "id": "Mk3Z3qSll4Fi",
        "colab": {
          "base_uri": "https://localhost:8080/"
        },
        "outputId": "a6d7c855-5aba-4710-fcfd-b1ff4da5c233"
      },
      "outputs": [
        {
          "output_type": "stream",
          "name": "stdout",
          "text": [
            "Requirement already satisfied: spacy in /usr/local/lib/python3.10/dist-packages (3.6.1)\n",
            "Requirement already satisfied: spacy-legacy<3.1.0,>=3.0.11 in /usr/local/lib/python3.10/dist-packages (from spacy) (3.0.12)\n",
            "Requirement already satisfied: spacy-loggers<2.0.0,>=1.0.0 in /usr/local/lib/python3.10/dist-packages (from spacy) (1.0.5)\n",
            "Requirement already satisfied: murmurhash<1.1.0,>=0.28.0 in /usr/local/lib/python3.10/dist-packages (from spacy) (1.0.10)\n",
            "Requirement already satisfied: cymem<2.1.0,>=2.0.2 in /usr/local/lib/python3.10/dist-packages (from spacy) (2.0.8)\n",
            "Requirement already satisfied: preshed<3.1.0,>=3.0.2 in /usr/local/lib/python3.10/dist-packages (from spacy) (3.0.9)\n",
            "Requirement already satisfied: thinc<8.2.0,>=8.1.8 in /usr/local/lib/python3.10/dist-packages (from spacy) (8.1.12)\n",
            "Requirement already satisfied: wasabi<1.2.0,>=0.9.1 in /usr/local/lib/python3.10/dist-packages (from spacy) (1.1.2)\n",
            "Requirement already satisfied: srsly<3.0.0,>=2.4.3 in /usr/local/lib/python3.10/dist-packages (from spacy) (2.4.8)\n",
            "Requirement already satisfied: catalogue<2.1.0,>=2.0.6 in /usr/local/lib/python3.10/dist-packages (from spacy) (2.0.10)\n",
            "Requirement already satisfied: typer<0.10.0,>=0.3.0 in /usr/local/lib/python3.10/dist-packages (from spacy) (0.9.0)\n",
            "Requirement already satisfied: pathy>=0.10.0 in /usr/local/lib/python3.10/dist-packages (from spacy) (0.10.2)\n",
            "Requirement already satisfied: smart-open<7.0.0,>=5.2.1 in /usr/local/lib/python3.10/dist-packages (from spacy) (6.4.0)\n",
            "Requirement already satisfied: tqdm<5.0.0,>=4.38.0 in /usr/local/lib/python3.10/dist-packages (from spacy) (4.66.1)\n",
            "Requirement already satisfied: numpy>=1.15.0 in /usr/local/lib/python3.10/dist-packages (from spacy) (1.23.5)\n",
            "Requirement already satisfied: requests<3.0.0,>=2.13.0 in /usr/local/lib/python3.10/dist-packages (from spacy) (2.31.0)\n",
            "Requirement already satisfied: pydantic!=1.8,!=1.8.1,<3.0.0,>=1.7.4 in /usr/local/lib/python3.10/dist-packages (from spacy) (1.10.13)\n",
            "Requirement already satisfied: jinja2 in /usr/local/lib/python3.10/dist-packages (from spacy) (3.1.2)\n",
            "Requirement already satisfied: setuptools in /usr/local/lib/python3.10/dist-packages (from spacy) (67.7.2)\n",
            "Requirement already satisfied: packaging>=20.0 in /usr/local/lib/python3.10/dist-packages (from spacy) (23.2)\n",
            "Requirement already satisfied: langcodes<4.0.0,>=3.2.0 in /usr/local/lib/python3.10/dist-packages (from spacy) (3.3.0)\n",
            "Requirement already satisfied: typing-extensions>=4.2.0 in /usr/local/lib/python3.10/dist-packages (from pydantic!=1.8,!=1.8.1,<3.0.0,>=1.7.4->spacy) (4.5.0)\n",
            "Requirement already satisfied: charset-normalizer<4,>=2 in /usr/local/lib/python3.10/dist-packages (from requests<3.0.0,>=2.13.0->spacy) (3.3.0)\n",
            "Requirement already satisfied: idna<4,>=2.5 in /usr/local/lib/python3.10/dist-packages (from requests<3.0.0,>=2.13.0->spacy) (3.4)\n",
            "Requirement already satisfied: urllib3<3,>=1.21.1 in /usr/local/lib/python3.10/dist-packages (from requests<3.0.0,>=2.13.0->spacy) (2.0.7)\n",
            "Requirement already satisfied: certifi>=2017.4.17 in /usr/local/lib/python3.10/dist-packages (from requests<3.0.0,>=2.13.0->spacy) (2023.7.22)\n",
            "Requirement already satisfied: blis<0.8.0,>=0.7.8 in /usr/local/lib/python3.10/dist-packages (from thinc<8.2.0,>=8.1.8->spacy) (0.7.11)\n",
            "Requirement already satisfied: confection<1.0.0,>=0.0.1 in /usr/local/lib/python3.10/dist-packages (from thinc<8.2.0,>=8.1.8->spacy) (0.1.3)\n",
            "Requirement already satisfied: click<9.0.0,>=7.1.1 in /usr/local/lib/python3.10/dist-packages (from typer<0.10.0,>=0.3.0->spacy) (8.1.7)\n",
            "Requirement already satisfied: MarkupSafe>=2.0 in /usr/local/lib/python3.10/dist-packages (from jinja2->spacy) (2.1.3)\n",
            "Collecting fake_useragent\n",
            "  Downloading fake_useragent-1.3.0-py3-none-any.whl (15 kB)\n",
            "Installing collected packages: fake_useragent\n",
            "Successfully installed fake_useragent-1.3.0\n",
            "2023-10-26 07:31:30.305082: E tensorflow/compiler/xla/stream_executor/cuda/cuda_dnn.cc:9342] Unable to register cuDNN factory: Attempting to register factory for plugin cuDNN when one has already been registered\n",
            "2023-10-26 07:31:30.305139: E tensorflow/compiler/xla/stream_executor/cuda/cuda_fft.cc:609] Unable to register cuFFT factory: Attempting to register factory for plugin cuFFT when one has already been registered\n",
            "2023-10-26 07:31:30.305163: E tensorflow/compiler/xla/stream_executor/cuda/cuda_blas.cc:1518] Unable to register cuBLAS factory: Attempting to register factory for plugin cuBLAS when one has already been registered\n",
            "2023-10-26 07:31:30.310549: I tensorflow/core/platform/cpu_feature_guard.cc:182] This TensorFlow binary is optimized to use available CPU instructions in performance-critical operations.\n",
            "To enable the following instructions: AVX2 FMA, in other operations, rebuild TensorFlow with the appropriate compiler flags.\n",
            "2023-10-26 07:31:31.234145: W tensorflow/compiler/tf2tensorrt/utils/py_utils.cc:38] TF-TRT Warning: Could not find TensorRT\n",
            "Collecting ru-core-news-sm==3.6.0\n",
            "  Downloading https://github.com/explosion/spacy-models/releases/download/ru_core_news_sm-3.6.0/ru_core_news_sm-3.6.0-py3-none-any.whl (15.3 MB)\n",
            "\u001b[2K     \u001b[90m━━━━━━━━━━━━━━━━━━━━━━━━━━━━━━━━━━━━━━━━\u001b[0m \u001b[32m15.3/15.3 MB\u001b[0m \u001b[31m114.4 MB/s\u001b[0m eta \u001b[36m0:00:00\u001b[0m\n",
            "\u001b[?25hRequirement already satisfied: spacy<3.7.0,>=3.6.0 in /usr/local/lib/python3.10/dist-packages (from ru-core-news-sm==3.6.0) (3.6.1)\n",
            "Collecting pymorphy3>=1.0.0 (from ru-core-news-sm==3.6.0)\n",
            "  Downloading pymorphy3-1.2.1-py3-none-any.whl (55 kB)\n",
            "\u001b[2K     \u001b[90m━━━━━━━━━━━━━━━━━━━━━━━━━━━━━━━━━━━━━━━━\u001b[0m \u001b[32m55.4/55.4 kB\u001b[0m \u001b[31m2.3 MB/s\u001b[0m eta \u001b[36m0:00:00\u001b[0m\n",
            "\u001b[?25hCollecting dawg-python>=0.7.1 (from pymorphy3>=1.0.0->ru-core-news-sm==3.6.0)\n",
            "  Downloading DAWG_Python-0.7.2-py2.py3-none-any.whl (11 kB)\n",
            "Collecting docopt-ng>=0.6 (from pymorphy3>=1.0.0->ru-core-news-sm==3.6.0)\n",
            "  Downloading docopt_ng-0.9.0-py3-none-any.whl (16 kB)\n",
            "Collecting pymorphy3-dicts-ru (from pymorphy3>=1.0.0->ru-core-news-sm==3.6.0)\n",
            "  Downloading pymorphy3_dicts_ru-2.4.417150.4580142-py2.py3-none-any.whl (8.4 MB)\n",
            "\u001b[2K     \u001b[90m━━━━━━━━━━━━━━━━━━━━━━━━━━━━━━━━━━━━━━━━\u001b[0m \u001b[32m8.4/8.4 MB\u001b[0m \u001b[31m79.4 MB/s\u001b[0m eta \u001b[36m0:00:00\u001b[0m\n",
            "\u001b[?25hRequirement already satisfied: spacy-legacy<3.1.0,>=3.0.11 in /usr/local/lib/python3.10/dist-packages (from spacy<3.7.0,>=3.6.0->ru-core-news-sm==3.6.0) (3.0.12)\n",
            "Requirement already satisfied: spacy-loggers<2.0.0,>=1.0.0 in /usr/local/lib/python3.10/dist-packages (from spacy<3.7.0,>=3.6.0->ru-core-news-sm==3.6.0) (1.0.5)\n",
            "Requirement already satisfied: murmurhash<1.1.0,>=0.28.0 in /usr/local/lib/python3.10/dist-packages (from spacy<3.7.0,>=3.6.0->ru-core-news-sm==3.6.0) (1.0.10)\n",
            "Requirement already satisfied: cymem<2.1.0,>=2.0.2 in /usr/local/lib/python3.10/dist-packages (from spacy<3.7.0,>=3.6.0->ru-core-news-sm==3.6.0) (2.0.8)\n",
            "Requirement already satisfied: preshed<3.1.0,>=3.0.2 in /usr/local/lib/python3.10/dist-packages (from spacy<3.7.0,>=3.6.0->ru-core-news-sm==3.6.0) (3.0.9)\n",
            "Requirement already satisfied: thinc<8.2.0,>=8.1.8 in /usr/local/lib/python3.10/dist-packages (from spacy<3.7.0,>=3.6.0->ru-core-news-sm==3.6.0) (8.1.12)\n",
            "Requirement already satisfied: wasabi<1.2.0,>=0.9.1 in /usr/local/lib/python3.10/dist-packages (from spacy<3.7.0,>=3.6.0->ru-core-news-sm==3.6.0) (1.1.2)\n",
            "Requirement already satisfied: srsly<3.0.0,>=2.4.3 in /usr/local/lib/python3.10/dist-packages (from spacy<3.7.0,>=3.6.0->ru-core-news-sm==3.6.0) (2.4.8)\n",
            "Requirement already satisfied: catalogue<2.1.0,>=2.0.6 in /usr/local/lib/python3.10/dist-packages (from spacy<3.7.0,>=3.6.0->ru-core-news-sm==3.6.0) (2.0.10)\n",
            "Requirement already satisfied: typer<0.10.0,>=0.3.0 in /usr/local/lib/python3.10/dist-packages (from spacy<3.7.0,>=3.6.0->ru-core-news-sm==3.6.0) (0.9.0)\n",
            "Requirement already satisfied: pathy>=0.10.0 in /usr/local/lib/python3.10/dist-packages (from spacy<3.7.0,>=3.6.0->ru-core-news-sm==3.6.0) (0.10.2)\n",
            "Requirement already satisfied: smart-open<7.0.0,>=5.2.1 in /usr/local/lib/python3.10/dist-packages (from spacy<3.7.0,>=3.6.0->ru-core-news-sm==3.6.0) (6.4.0)\n",
            "Requirement already satisfied: tqdm<5.0.0,>=4.38.0 in /usr/local/lib/python3.10/dist-packages (from spacy<3.7.0,>=3.6.0->ru-core-news-sm==3.6.0) (4.66.1)\n",
            "Requirement already satisfied: numpy>=1.15.0 in /usr/local/lib/python3.10/dist-packages (from spacy<3.7.0,>=3.6.0->ru-core-news-sm==3.6.0) (1.23.5)\n",
            "Requirement already satisfied: requests<3.0.0,>=2.13.0 in /usr/local/lib/python3.10/dist-packages (from spacy<3.7.0,>=3.6.0->ru-core-news-sm==3.6.0) (2.31.0)\n",
            "Requirement already satisfied: pydantic!=1.8,!=1.8.1,<3.0.0,>=1.7.4 in /usr/local/lib/python3.10/dist-packages (from spacy<3.7.0,>=3.6.0->ru-core-news-sm==3.6.0) (1.10.13)\n",
            "Requirement already satisfied: jinja2 in /usr/local/lib/python3.10/dist-packages (from spacy<3.7.0,>=3.6.0->ru-core-news-sm==3.6.0) (3.1.2)\n",
            "Requirement already satisfied: setuptools in /usr/local/lib/python3.10/dist-packages (from spacy<3.7.0,>=3.6.0->ru-core-news-sm==3.6.0) (67.7.2)\n",
            "Requirement already satisfied: packaging>=20.0 in /usr/local/lib/python3.10/dist-packages (from spacy<3.7.0,>=3.6.0->ru-core-news-sm==3.6.0) (23.2)\n",
            "Requirement already satisfied: langcodes<4.0.0,>=3.2.0 in /usr/local/lib/python3.10/dist-packages (from spacy<3.7.0,>=3.6.0->ru-core-news-sm==3.6.0) (3.3.0)\n",
            "Requirement already satisfied: typing-extensions>=4.2.0 in /usr/local/lib/python3.10/dist-packages (from pydantic!=1.8,!=1.8.1,<3.0.0,>=1.7.4->spacy<3.7.0,>=3.6.0->ru-core-news-sm==3.6.0) (4.5.0)\n",
            "Requirement already satisfied: charset-normalizer<4,>=2 in /usr/local/lib/python3.10/dist-packages (from requests<3.0.0,>=2.13.0->spacy<3.7.0,>=3.6.0->ru-core-news-sm==3.6.0) (3.3.0)\n",
            "Requirement already satisfied: idna<4,>=2.5 in /usr/local/lib/python3.10/dist-packages (from requests<3.0.0,>=2.13.0->spacy<3.7.0,>=3.6.0->ru-core-news-sm==3.6.0) (3.4)\n",
            "Requirement already satisfied: urllib3<3,>=1.21.1 in /usr/local/lib/python3.10/dist-packages (from requests<3.0.0,>=2.13.0->spacy<3.7.0,>=3.6.0->ru-core-news-sm==3.6.0) (2.0.7)\n",
            "Requirement already satisfied: certifi>=2017.4.17 in /usr/local/lib/python3.10/dist-packages (from requests<3.0.0,>=2.13.0->spacy<3.7.0,>=3.6.0->ru-core-news-sm==3.6.0) (2023.7.22)\n",
            "Requirement already satisfied: blis<0.8.0,>=0.7.8 in /usr/local/lib/python3.10/dist-packages (from thinc<8.2.0,>=8.1.8->spacy<3.7.0,>=3.6.0->ru-core-news-sm==3.6.0) (0.7.11)\n",
            "Requirement already satisfied: confection<1.0.0,>=0.0.1 in /usr/local/lib/python3.10/dist-packages (from thinc<8.2.0,>=8.1.8->spacy<3.7.0,>=3.6.0->ru-core-news-sm==3.6.0) (0.1.3)\n",
            "Requirement already satisfied: click<9.0.0,>=7.1.1 in /usr/local/lib/python3.10/dist-packages (from typer<0.10.0,>=0.3.0->spacy<3.7.0,>=3.6.0->ru-core-news-sm==3.6.0) (8.1.7)\n",
            "Requirement already satisfied: MarkupSafe>=2.0 in /usr/local/lib/python3.10/dist-packages (from jinja2->spacy<3.7.0,>=3.6.0->ru-core-news-sm==3.6.0) (2.1.3)\n",
            "Installing collected packages: pymorphy3-dicts-ru, dawg-python, docopt-ng, pymorphy3, ru-core-news-sm\n",
            "Successfully installed dawg-python-0.7.2 docopt-ng-0.9.0 pymorphy3-1.2.1 pymorphy3-dicts-ru-2.4.417150.4580142 ru-core-news-sm-3.6.0\n",
            "\u001b[38;5;2m✔ Download and installation successful\u001b[0m\n",
            "You can now load the package via spacy.load('ru_core_news_sm')\n"
          ]
        }
      ],
      "source": [
        "!pip install spacy\n",
        "!pip install fake_useragent\n",
        "! python -m spacy download ru_core_news_sm"
      ]
    },
    {
      "cell_type": "code",
      "execution_count": 6,
      "metadata": {
        "id": "A2TJ3m4ul8bM"
      },
      "outputs": [],
      "source": [
        "from fake_useragent import UserAgent\n",
        "import requests\n",
        "from bs4 import BeautifulSoup\n",
        "import time"
      ]
    },
    {
      "cell_type": "code",
      "execution_count": 7,
      "metadata": {
        "id": "4qwk1gjVoT6H"
      },
      "outputs": [],
      "source": [
        "session = requests.session()\n",
        "ua = UserAgent()"
      ]
    },
    {
      "cell_type": "code",
      "execution_count": 8,
      "metadata": {
        "id": "Kz5Le7wxHrhZ"
      },
      "outputs": [],
      "source": [
        "texts = []\n",
        "authors = []\n",
        "titles = []\n",
        "#это списки, в которых будут храниться метаданные по всем текстам"
      ]
    },
    {
      "cell_type": "code",
      "execution_count": 9,
      "metadata": {
        "id": "Pz6aLoCOl7iK"
      },
      "outputs": [],
      "source": [
        "urls = []\n",
        "sets_of_stories = [\n",
        "    'https://ficbook.net/readfic/10332769',\n",
        "    'https://ficbook.net/readfic/12931291',\n",
        "    'https://ficbook.net/readfic/13710114',\n",
        "    'https://ficbook.net/readfic/018b3c1a-913f-7e4f-931e-37d0997ad3c6',\n",
        "    'https://ficbook.net/readfic/9286325',\n",
        "    'https://ficbook.net/readfic/018b1a2f-1bbc-7205-b029-d78a18ed79e4',\n",
        "    'https://ficbook.net/readfic/0189933d-b420-7d6e-bb33-e92fb5d567fd',\n",
        "    'https://ficbook.net/readfic/13550055',\n",
        "    'https://ficbook.net/readfic/13030645',\n",
        "    'https://ficbook.net/readfic/4720276'\n",
        "]\n",
        "#тут странички с ссылками на сборники рассказов, из них мы достаем много ссылок на конкретные рассказы и пишем в urls"
      ]
    },
    {
      "cell_type": "code",
      "execution_count": 10,
      "metadata": {
        "id": "7mA7L4NWoXCK"
      },
      "outputs": [],
      "source": [
        "def parser(url):\n",
        "    headers = {'User-Agent': ua.random}\n",
        "    response = session.get(url, headers=headers)\n",
        "    page = response.text\n",
        "    soup = BeautifulSoup(page, 'html.parser')\n",
        "    texts.append(soup.find('div', {'itemprop': 'articleBody'}).text)\n",
        "    authors.append(soup.find('a', {'itemprop': 'author'}).text)\n",
        "    titles.append(soup.find('h2', {'itemprop': 'headline'}).text)\n",
        "#тут функция по доставанию всех нужных метадынных со страницы"
      ]
    },
    {
      "cell_type": "code",
      "execution_count": 11,
      "metadata": {
        "id": "nEvAgyXDMdsE"
      },
      "outputs": [],
      "source": [
        "def getting_urls(url):\n",
        "    headers = {'User-Agent': ua.random}\n",
        "    response = session.get(url, headers=headers)\n",
        "    page = response.text\n",
        "    soup = BeautifulSoup(page, 'html.parser')\n",
        "    links = soup.find_all('a', {'class': 'part-link visit-link'})\n",
        "    for link in links:\n",
        "        urls.append('https://ficbook.net' + link.get('href'))\n",
        "#тут функция как из страницы со сборником достать ссылки на конкретные рассказы"
      ]
    },
    {
      "cell_type": "code",
      "execution_count": 12,
      "metadata": {
        "id": "3yuqdaCHjs58"
      },
      "outputs": [],
      "source": [
        "for link in sets_of_stories:\n",
        "  getting_urls(link)"
      ]
    },
    {
      "cell_type": "code",
      "execution_count": 13,
      "metadata": {
        "id": "5vrGOJ-uQAzq"
      },
      "outputs": [],
      "source": [
        "for url in urls:\n",
        "  parser(url)\n",
        "  time.sleep(0.3)\n",
        "#там блокируется доступ к страничке, поэтому делаем паузы между запросами"
      ]
    },
    {
      "cell_type": "code",
      "execution_count": 14,
      "metadata": {
        "id": "VQ89J9SBv6KU"
      },
      "outputs": [],
      "source": [
        "import re\n",
        "for i, text in enumerate(texts):\n",
        "  texts[i] = re.sub(r'[\\t\\n\\r\\xa0]', '', text)\n",
        "  texts[i] = re.sub(r'([.,!?:;])', r'\\1 ', texts[i])\n",
        "  texts[i] = re.sub(r' *([.,!?:;]) *', r'\\1 ', texts[i])\n",
        "  texts[i] = texts[i].replace(' .', '.')\n",
        "  texts[i] = texts[i].replace(' !', '!')\n",
        "  texts[i] = texts[i].replace(' ?', '?')\n",
        "  texts[i] = texts[i].replace('___________________________________________', '')\n",
        "#вырезаем все лишние табы, расставляем пробелы после знаков препинания, где не стоят,\n",
        "#исправляем многоточие и несколько восклицательных/вопросительных знаков подряд,\n",
        "#удаляем длинную полоску из нижних подчеркиваний, которой разделяют части одного текста"
      ]
    },
    {
      "cell_type": "code",
      "execution_count": 15,
      "metadata": {
        "colab": {
          "base_uri": "https://localhost:8080/"
        },
        "id": "yn9DnKX02n5J",
        "outputId": "abaace38-8d7f-4731-bdd1-a2df06608539"
      },
      "outputs": [
        {
          "output_type": "stream",
          "name": "stderr",
          "text": [
            "[nltk_data] Downloading package punkt to /root/nltk_data...\n",
            "[nltk_data]   Unzipping tokenizers/punkt.zip.\n"
          ]
        },
        {
          "output_type": "execute_result",
          "data": {
            "text/plain": [
              "True"
            ]
          },
          "metadata": {},
          "execution_count": 15
        }
      ],
      "source": [
        "import nltk\n",
        "from nltk.tokenize import sent_tokenize\n",
        "nltk.download('punkt')"
      ]
    },
    {
      "cell_type": "code",
      "execution_count": 16,
      "metadata": {
        "id": "ioeqnMXm0_vS"
      },
      "outputs": [],
      "source": [
        "sentences = []\n",
        "#тут будут записаны все предложения, их же мы будем выводить в результате поиска\n",
        "ids = []\n",
        "#тут каждому предложению ставится в соответствие id текста, из которого оно берется, чтобы потом выводить вместе с предложением все метаданные про текст\n",
        "#это id = индекс для каждого списка с метаданными\n",
        "for i, text in enumerate(texts):\n",
        "  sents = sent_tokenize(text)\n",
        "  for sent in sents:\n",
        "    sentences.append(sent)\n",
        "    ids.append(i)"
      ]
    },
    {
      "cell_type": "code",
      "source": [
        "import spacy\n",
        "\n",
        "nlp = spacy.load(\"ru_core_news_sm\")\n",
        "\n",
        "lemmas = []\n",
        "pos_tags = []\n",
        "word_forms = []\n",
        "#это списки списков, где каждый список соответсвует набору pos тэгов/лемм/словоформ из конкретного предложения (такие же индексы как в списке предложений,\n",
        "#так что lemmas[i] - это список лемм из предложения sentences[i]), поэтому если надо искать леммы, то мы ищем по списку лемм, и, если нашли, выводим предложение\n",
        "#из списка предложений со всей метаинформацией\n",
        "\n",
        "\n",
        "for sent in sentences:\n",
        "  list_of_pos = []\n",
        "  list_of_lemmas = []\n",
        "  list_of_word_forms = []\n",
        "  doc = nlp(sent)\n",
        "  for token in doc:\n",
        "    list_of_pos.append(token.pos_)\n",
        "    list_of_lemmas.append(token.lemma_)\n",
        "    list_of_word_forms.append(token.text)\n",
        "  lemmas.append(list_of_lemmas)\n",
        "  pos_tags.append(list_of_pos)\n",
        "  word_forms.append(list_of_word_forms)"
      ],
      "metadata": {
        "id": "S3wP7u0gRzQi"
      },
      "execution_count": 17,
      "outputs": []
    },
    {
      "cell_type": "markdown",
      "metadata": {
        "id": "2fnVEtGqYzly"
      },
      "source": [
        "# Новый раздел"
      ]
    },
    {
      "cell_type": "code",
      "execution_count": 18,
      "metadata": {
        "colab": {
          "base_uri": "https://localhost:8080/"
        },
        "id": "cpkI2axBXy3j",
        "outputId": "8c1fa6ba-5548-4c97-a137-756a536de75f"
      },
      "outputs": [
        {
          "output_type": "stream",
          "name": "stdout",
          "text": [
            "Они застыли на долгие минуты, приходя в себя, восстанавливая дыхание и обращаясь к Силе за утешением.\n",
            "['они', 'застынуть', 'на', 'долгий', 'минута', ',', 'приходить', 'в', 'себя', ',', 'восстанавливать', 'дыхание', 'и', 'обращаться', 'к', 'сила', 'за', 'утешение', '.']\n",
            "['PRON', 'VERB', 'ADP', 'ADJ', 'NOUN', 'PUNCT', 'VERB', 'ADP', 'PRON', 'PUNCT', 'VERB', 'NOUN', 'CCONJ', 'VERB', 'ADP', 'PROPN', 'ADP', 'NOUN', 'PUNCT']\n",
            "['Они', 'застыли', 'на', 'долгие', 'минуты', ',', 'приходя', 'в', 'себя', ',', 'восстанавливая', 'дыхание', 'и', 'обращаясь', 'к', 'Силе', 'за', 'утешением', '.']\n",
            "0\n",
            "stratching in the sky\n",
            "Джедай и падаван\n",
            "https://ficbook.net/readfic/10332769/35720468#part_content\n"
          ]
        }
      ],
      "source": [
        "print(sentences[69])\n",
        "print(lemmas[69])\n",
        "print(pos_tags[69])\n",
        "print(word_forms[69])\n",
        "print(ids[69])\n",
        "print(authors[ids[69]])\n",
        "print(titles[ids[69]])\n",
        "print(urls[ids[69]])\n",
        "#тут примеры, что выводится в каждом списке и как они связаны"
      ]
    },
    {
      "cell_type": "code",
      "source": [
        "#стандартный тегсет UD\n",
        "pos_list = ['ADJ', 'ADP', 'ADV', 'AUX', 'CONJ', 'CCONJ', 'DET', 'INTJ', 'NOUN', 'NUM', 'PART', 'PRON', 'PROPN', 'PUNCT', 'SCONJ', 'SYM', 'VERB', 'X']"
      ],
      "metadata": {
        "id": "Sg75qn3J5LEH"
      },
      "execution_count": 19,
      "outputs": []
    },
    {
      "cell_type": "code",
      "source": [
        "def search(query):\n",
        "    tokens = query.split()\n",
        "    results = []\n",
        "\n",
        "    if len(tokens) > 3:\n",
        "      print('в запросе должно быть не больше 3 токенов')\n",
        "\n",
        "    else:\n",
        "      for idx, sent in enumerate(sentences):\n",
        "          token_pointer = 0  # Указатель для токенов запроса\n",
        "          element_pointer = 0  # Указатель для элементов предложения (лемм или POS-тегов или словоформ)\n",
        "\n",
        "          while token_pointer < len(tokens) and element_pointer < len(lemmas[idx]):\n",
        "              current_token = tokens[token_pointer]\n",
        "\n",
        "              #для одного токена, чтобы не проверять на последовательное расположение токенов в тексте\n",
        "              if len(tokens) == 1:\n",
        "\n",
        "                  # Для словоформы в кавычках\n",
        "                  if current_token.startswith('\"') and current_token.endswith('\"'):\n",
        "                    word = current_token[1:-1]\n",
        "                    if word == word_forms[idx][element_pointer]:\n",
        "                        token_pointer += 1\n",
        "                    element_pointer += 1 # Move to next element regardless of the current token match\n",
        "\n",
        "                  # Для комбинации леммы и POS-тега\n",
        "                  elif '+' in current_token:\n",
        "                      word, pos = current_token.split('+')\n",
        "                      if word == lemmas[idx][element_pointer] and pos == pos_tags[idx][element_pointer]:\n",
        "                          token_pointer += 1\n",
        "                          element_pointer += 1\n",
        "                          continue\n",
        "                      else:\n",
        "                          element_pointer += 1\n",
        "                          continue\n",
        "\n",
        "                  # Для поиска по POS-тегу\n",
        "                  elif current_token in pos_list:\n",
        "                      if current_token == pos_tags[idx][element_pointer]:\n",
        "                          token_pointer += 1\n",
        "                      element_pointer += 1 # Move to next element regardless of the current token match\n",
        "\n",
        "                  # Для поиска по лемме/словоформе\n",
        "                  else:\n",
        "                    if current_token == lemmas[idx][element_pointer] or current_token == word_forms[idx][element_pointer]:\n",
        "                        token_pointer += 1\n",
        "                    element_pointer += 1 # Move to next element regardless of the current token match\n",
        "\n",
        "              else:\n",
        "\n",
        "                # Для словоформы в кавычках\n",
        "                if current_token.startswith('\"') and current_token.endswith('\"'):\n",
        "                    word = current_token[1:-1]\n",
        "                    if word == word_forms[idx][element_pointer]:\n",
        "                        token_pointer += 1\n",
        "                        element_pointer += 1\n",
        "                    else:\n",
        "                      break\n",
        "\n",
        "                # Для комбинации леммы и POS-тега\n",
        "                elif '+' in current_token:\n",
        "                    word, pos = current_token.split('+')\n",
        "                    if word == lemmas[idx][element_pointer] and pos == pos_tags[idx][element_pointer]:\n",
        "                        token_pointer += 1\n",
        "                        element_pointer += 1\n",
        "                        continue\n",
        "                    else:\n",
        "                        element_pointer += 1\n",
        "                        continue\n",
        "\n",
        "                # Для поиска по POS-тегу\n",
        "                elif current_token in pos_list:\n",
        "                    if current_token == pos_tags[idx][element_pointer]:\n",
        "                        token_pointer += 1\n",
        "                        element_pointer += 1\n",
        "                    else:\n",
        "                        break\n",
        "\n",
        "                # Для поиска по лемме/словоформе\n",
        "                else:\n",
        "                    if current_token == lemmas[idx][element_pointer] or current_token == word_forms[idx][element_pointer]:\n",
        "                        token_pointer += 1\n",
        "                        element_pointer += 1\n",
        "                    else:\n",
        "                      break\n",
        "\n",
        "          # Если все токены запроса были найдены в предложении в нужной последовательности\n",
        "          if token_pointer == len(tokens):\n",
        "              meta_info = f\"{titles[ids[idx]]} - {authors[ids[idx]]} ({urls[ids[idx]]})\"\n",
        "              results.append((sent, meta_info))\n",
        "\n",
        "      for res, meta in results:\n",
        "          print(res)\n",
        "          print(f\"Source: {meta}\\n\")\n",
        "      if results == []:\n",
        "        print('Ничего не найдено')\n",
        ""
      ],
      "metadata": {
        "id": "pmJ7urFH59sa"
      },
      "execution_count": 116,
      "outputs": []
    },
    {
      "cell_type": "code",
      "source": [
        "search('знать+VERB ситх')"
      ],
      "metadata": {
        "colab": {
          "base_uri": "https://localhost:8080/"
        },
        "id": "DDg42CDSB53K",
        "outputId": "f34e8b0e-5f06-4b63-aa9d-8410f9c75e72"
      },
      "execution_count": 109,
      "outputs": [
        {
          "output_type": "stream",
          "name": "stdout",
          "text": [
            "Ничего не найдено\n"
          ]
        }
      ]
    },
    {
      "cell_type": "code",
      "source": [
        "search('NOUN VERB NOUN VERB')"
      ],
      "metadata": {
        "colab": {
          "base_uri": "https://localhost:8080/"
        },
        "id": "NEJeD5K-DMHl",
        "outputId": "45021467-fc22-4520-ac85-2dca57ecb9d2"
      },
      "execution_count": 101,
      "outputs": [
        {
          "output_type": "stream",
          "name": "stdout",
          "text": [
            "в запросе должно быть не больше 3 токенов\n"
          ]
        }
      ]
    },
    {
      "cell_type": "code",
      "source": [
        "search('знать+VERB NOUN')"
      ],
      "metadata": {
        "colab": {
          "base_uri": "https://localhost:8080/"
        },
        "id": "zGwKZGBtCZvQ",
        "outputId": "dcc922b3-780f-46b9-ae0a-68b5e1086a9b"
      },
      "execution_count": 110,
      "outputs": [
        {
          "output_type": "stream",
          "name": "stdout",
          "text": [
            "Кому еще знать анатомию, как не убийце.\n",
            "Source: Незваная гостья - Jarethina (https://ficbook.net/readfic/9286325/23826185#part_content)\n",
            "\n",
            "—Ты будешь знать правду.\n",
            "Source: Маленький инцидент - Jarethina (https://ficbook.net/readfic/9286325/23873351#part_content)\n",
            "\n",
            "Она удовольствовалась учебниками по перспективе и композиции, а еще скупыми объяснениями самого Кайло, который знал основы академического рисунка, и видеоуроками.\n",
            "Source: Маленький инцидент - Jarethina (https://ficbook.net/readfic/9286325/23873351#part_content)\n",
            "\n",
            "Но при этом ты очень хорошо держал оборону, будто уже зная соресу.\n",
            "Source: Турнир - Постмодерн (https://ficbook.net/readfic/0189933d-b420-7d6e-bb33-e92fb5d567fd/35219117#part_content)\n",
            "\n",
            "От падавана шла темнота и на самом деле он уже знал ответ на свой вопрос.\n",
            "Source: Будни падавана - Постмодерн (https://ficbook.net/readfic/0189933d-b420-7d6e-bb33-e92fb5d567fd/35269449#part_content)\n",
            "\n",
            "Он прекрасно знал ответ на этот вопрос, но не хотел на него отвечать.\n",
            "Source: Я и Мой падаван - Постмодерн (https://ficbook.net/readfic/0189933d-b420-7d6e-bb33-e92fb5d567fd/35328370#part_content)\n",
            "\n",
            "Я сама знаю дорогу туда, я только соберу свои вещи и в путь, — Руби бросилась в дом собирать свои вещи, а Жон остался ждать снаружи с выражением боли на лице.\n",
            "Source: Кровавая эволюция (Bloodborne) - H-eon (https://ficbook.net/readfic/13030645/33456210#part_content)\n",
            "\n",
            "Просто… Мне нужен только один человек, который знает формулу.\n",
            "Source: Бессмысленный меч (Rurouni Kenshin (фильм)) - H-eon (https://ficbook.net/readfic/13030645/33589158#part_content)\n",
            "\n",
            "Она единственная, кто знает рецепт опиума.\n",
            "Source: Бессмысленный меч (Rurouni Kenshin (фильм)) - H-eon (https://ficbook.net/readfic/13030645/33589158#part_content)\n",
            "\n",
            "Торчвик никогда не перестанет преследовать её, и… её друзья имели право знать правду.\n",
            "Source: Бессмысленный меч (Rurouni Kenshin (фильм)) - H-eon (https://ficbook.net/readfic/13030645/33589158#part_content)\n",
            "\n",
            "— Подождите, я знаю здание, о котором идет речь.\n",
            "Source: Мастер блефа (JoJo Bizarre Adventure) - H-eon (https://ficbook.net/readfic/13030645/33866122#part_content)\n",
            "\n",
            "«Судя по его реакции, он должен знать секрет стенда Тириана!\n",
            "Source: Мастер блефа (JoJo Bizarre Adventure) - H-eon (https://ficbook.net/readfic/13030645/33866122#part_content)\n",
            "\n",
            "— Судя по твоей реакции, ты и сам знаешь правду.\n",
            "Source: Гордость фальшивого героя (Fate Stay Night (Unlimited Blade Works)) - H-eon (https://ficbook.net/readfic/13030645/33866988#part_content)\n",
            "\n",
            "— Они будут знать местонахождение настоящей базы.\n",
            "Source: Давным-давно в далекой-далекой галактике... (Star Wars IV A New Hope) - H-eon (https://ficbook.net/readfic/13030645/34078588#part_content)\n",
            "\n",
            "Салем не знала пощады, и Озпин, очевидно, тоже.\n",
            "Source: Закон Мерфи (alt RWBY) - H-eon (https://ficbook.net/readfic/13030645/34303559#part_content)\n",
            "\n",
            "— Думаю, мы оба знаем ответ на этот вопрос, — ответила Вайсс, когда камера увеличила изображение на мостике «Осени».\n",
            "Source: 117 (Halo Combat Evolved) - H-eon (https://ficbook.net/readfic/13030645/34510727#part_content)\n",
            "\n",
            "– Туше, но я знаю владельца этого прекрасного заведения и сегодня я здесь по его просьбе, – пожал плечами Жон и взял новый не протёртый стакан.\n",
            "Source: Рождественский спецвыпуск: Рождество для плохих парней (alt RWBY) - H-eon (https://ficbook.net/readfic/13030645/34606276#part_content)\n",
            "\n",
            "– Ты уже знаешь ответ на это.\n",
            "Source: Рождественский спецвыпуск: Рождество для плохих парней (alt RWBY) - H-eon (https://ficbook.net/readfic/13030645/34606276#part_content)\n",
            "\n",
            "— Не уверен, что ты хочешь знать ответ на этот вопрос, Рен, — ответил Жон, осматривая окрестности в поисках врагов.\n",
            "Source: Детская сказка Dark Souls (Artorias of the Abyss) - H-eon (https://ficbook.net/readfic/13030645/34656638#part_content)\n",
            "\n",
            "«Он знает искусство ускорения?\n",
            "Source: Лучший из Охотников (Bloodborne The Old Hunters) - H-eon (https://ficbook.net/readfic/13030645/34836024#part_content)\n",
            "\n",
            "В общем-то, оператор заранее знал ответ, так как инструкции сообщили им обоим.\n",
            "Source: Пропавший дроид - Krosskun (https://ficbook.net/readfic/4720276/12217855#part_content)\n",
            "\n",
            "Никогда не знаешь наперёд, каким трюкам обучен новый псайкер.\n",
            "Source: Световой меч, силовой меч - Krosskun (https://ficbook.net/readfic/4720276/12218569#part_content)\n",
            "\n",
            "— Возможно, величайшим, которого знала галактика.\n",
            "Source: Тактический анализ - Krosskun (https://ficbook.net/readfic/4720276/12242027#part_content)\n",
            "\n",
            "Отнекиваться дальше было глупо, поэтому премьер-министру пришлось взять в руки раковину, даже не зная толком, как к ней подступиться.\n",
            "Source: Оставшиеся - Krosskun (https://ficbook.net/readfic/4720276/12248677#part_content)\n",
            "\n",
            "— А демоны не знают страха.\n",
            "Source: По волнам ада - Krosskun (https://ficbook.net/readfic/4720276/12254256#part_content)\n",
            "\n",
            "Уже знающий последствия попадания в зону воздействия этих разломов, Траун чуть ли не выпрыгнул из своего кресла, начав отдавать срочные указания.\n",
            "Source: Эволюция войны - Krosskun (https://ficbook.net/readfic/4720276/12258105#part_content)\n",
            "\n",
            "И судя по всему, в женском внимании и ласке он не знал недостатка.\n",
            "Source: Возвращение - Krosskun (https://ficbook.net/readfic/4720276/12258550#part_content)\n",
            "\n",
            "Но тут не было ничего удивительного — солдаты не знали гувернанток в лицо, а пышный наряд леди-губернатора давал исчерпывающий ответ на все остальные вопросы.\n",
            "Source: Смерть на балу - Krosskun (https://ficbook.net/readfic/4720276/12259498#part_content)\n",
            "\n",
            "Чем лучше ты знаешь конкурента, тем проще тебе его обойти.\n",
            "Source: Женские сплетни - Krosskun (https://ficbook.net/readfic/4720276/12264737#part_content)\n",
            "\n",
            "-Ваша щедрость не знает границ, но у вас есть нечто, что для меня несоизмеримо дороже клинка, которым я убила первого человека, - произнесла леди-губернатор, прекрасно понимая, какую глупость она совершает.\n",
            "Source: Женские сплетни - Krosskun (https://ficbook.net/readfic/4720276/12264737#part_content)\n",
            "\n",
            "Чтобы эта операция вообще стала возможна, император Палпатин присвоил ему высокое звание гранд-адмирала, дававшее огромную власть и право командовать столь громадным флотом, равного которому не знала история.\n",
            "Source: Решительные действия - Krosskun (https://ficbook.net/readfic/4720276/13083300#part_content)\n",
            "\n",
            "Это была битва гигантов, которой ещё не знала галактика.\n",
            "Source: Две твердыни - Krosskun (https://ficbook.net/readfic/4720276/14559174#part_content)\n",
            "\n",
            "— тут же спросила Гера, но Эзра уже знал ответ.\n",
            "Source: Старые знакомые - Krosskun (https://ficbook.net/readfic/4720276/16493415#part_content)\n",
            "\n",
            "— А ещё у меня есть человек, который знает похитителей в лицо.\n",
            "Source: Новый подход - Krosskun (https://ficbook.net/readfic/4720276/18675614#part_content)\n",
            "\n",
            "Он увидел прибытие множества громадных кораблей, которых никогда ранее не знала галактика.\n",
            "Source: Путь к кооперации - Krosskun (https://ficbook.net/readfic/4720276/25263643#part_content)\n",
            "\n",
            "На каких-то планетах дымы от огромных костров, сложенных из тел представителей нечеловеческих рас, заволакивали небеса пеленой черных облаков и пепла, в то время как в соседних секторах целые семьи сгонялись не знающими жалости узурпаторами на крутые скалы, только чтобы сбросить несчастных в пучины бушующего моря.\n",
            "Source: Путь к кооперации - Krosskun (https://ficbook.net/readfic/4720276/25263643#part_content)\n",
            "\n",
            "— мысленно поинтересовался предводитель захватчиков, только сейчас спохватившись о том, что не знает правил.\n",
            "Source: Горячая замена - Krosskun (https://ficbook.net/readfic/4720276/27421868#part_content)\n",
            "\n",
            "И что даже не зная отца с рождения, он всё равно был близок с ним по духу, избрав ту же стезю и пойдя по его стопам.\n",
            "Source: Тревожная метеосводка - Krosskun (https://ficbook.net/readfic/4720276/28174816#part_content)\n",
            "\n"
          ]
        }
      ]
    },
    {
      "cell_type": "code",
      "source": [
        "search('NOUN ситх')"
      ],
      "metadata": {
        "colab": {
          "base_uri": "https://localhost:8080/"
        },
        "id": "nPgieVLxBKIv",
        "outputId": "23688fa5-831b-4c23-e857-0f387f4e38bb"
      },
      "execution_count": 111,
      "outputs": [
        {
          "output_type": "stream",
          "name": "stdout",
          "text": [
            "Магия ситхов?\n",
            "Source: Мастер, тогрута и тогрута - stratching in the sky (https://ficbook.net/readfic/10332769/35726040#part_content)\n",
            "\n",
            "Тирания ситхов расцвела в галактике за минувшие пятнадцать лет буйным цветом, отравив всё вокруг корнями Темной Стороны.\n",
            "Source: Путь к кооперации - Krosskun (https://ficbook.net/readfic/4720276/25263643#part_content)\n",
            "\n"
          ]
        }
      ]
    },
    {
      "cell_type": "code",
      "source": [
        "search('VERB VERB VERB')"
      ],
      "metadata": {
        "colab": {
          "base_uri": "https://localhost:8080/"
        },
        "id": "mrY5BpyO-aqY",
        "outputId": "d8cf7746-ae6e-4ae3-b5bf-5ca152541ef0"
      },
      "execution_count": 112,
      "outputs": [
        {
          "output_type": "stream",
          "name": "stdout",
          "text": [
            "Желающих подойти поговорить с ней было немного, а те, кто подходил, хотели попасть в команду с «непобедимой девочкой», а не с Пиррой Никос.\n",
            "Source: JNPR NG+ (alt RWBY) - H-eon (https://ficbook.net/readfic/13030645/33653211#part_content)\n",
            "\n",
            "Стараясь использовать начавшийся пожар как дымовую завесу, он пополз прочь от линии соприкосновения, держа винтовку в одной руке, а термальный детонатор в другой, как последний довод, который он мог применить в свою защиту.\n",
            "Source: Сопротивление обречённых - Krosskun (https://ficbook.net/readfic/4720276/12249473#part_content)\n",
            "\n",
            "Начал нараспев читать свои предсказания высокий прорицатель.\n",
            "Source: Эхо грядущего - Krosskun (https://ficbook.net/readfic/4720276/12251120#part_content)\n",
            "\n"
          ]
        }
      ]
    },
    {
      "cell_type": "code",
      "source": [
        "search('\"ситха\"')"
      ],
      "metadata": {
        "colab": {
          "base_uri": "https://localhost:8080/"
        },
        "id": "AdRI7Q-W6EhM",
        "outputId": "32be5369-b6ac-4273-8cef-7113e2e227c6"
      },
      "execution_count": 115,
      "outputs": [
        {
          "output_type": "stream",
          "name": "stdout",
          "text": [
            "Я же не настолько глупа, чтобы ходить с именем, под которым меня знали, как ситха, вот и сменила!\n",
            "Source: О том, почему у Асоки фамилия «Непей-Пиво» и причём тут Асажж - Ёкарная Бабайка (https://ficbook.net/readfic/12931291/33486905#part_content)\n",
            "\n",
            "— возразил Леший, несколько раз стреляя в ситха.\n",
            "Source: Осквернённый монастырь - Мистер Вульф (https://ficbook.net/readfic/13710114/35127666#part_content)\n",
            "\n",
            "Перед ним предстала голограмма ситха.\n",
            "Source: Будни падавана - Постмодерн (https://ficbook.net/readfic/0189933d-b420-7d6e-bb33-e92fb5d567fd/35269449#part_content)\n",
            "\n",
            "— осторожно спросил офицер связи у адмирала, но тот не ответил, и только умоляюще посмотрел на устрашающую фигуру владыки-ситха, чьё тяжёлое механическое дыхание единственное нарушало царившую вокруг тишину.\n",
            "Source: Новые тактические приёмы - Krosskun (https://ficbook.net/readfic/4720276/12234981#part_content)\n",
            "\n",
            "— чёрная маска скрывала лицо ситха, но, даже искажённый дыхательной системой, его голос не скрывал явного удивления.\n",
            "Source: Места в партере - Krosskun (https://ficbook.net/readfic/4720276/12240660#part_content)\n",
            "\n",
            "Потому что скрючившийся джедай повалился вперёд, прямо под клинок ситха.\n",
            "Source: Затишье перед бурей - Krosskun (https://ficbook.net/readfic/4720276/12251405#part_content)\n",
            "\n",
            "Но как только он постарался отстраниться от ситха, тот мешком повалился на пол.\n",
            "Source: Затишье перед бурей - Krosskun (https://ficbook.net/readfic/4720276/12251405#part_content)\n",
            "\n",
            "Но что могло заставить старого ситха пойти на такое поражающее воображение зверство?\n",
            "Source: Путь к кооперации - Krosskun (https://ficbook.net/readfic/4720276/25263643#part_content)\n",
            "\n"
          ]
        }
      ]
    },
    {
      "cell_type": "code",
      "source": [
        "search('ситх')"
      ],
      "metadata": {
        "colab": {
          "base_uri": "https://localhost:8080/"
        },
        "id": "8c7JXMUZFppF",
        "outputId": "547ebcea-bf05-49ee-ca45-b342cb7dcbe4"
      },
      "execution_count": 117,
      "outputs": [
        {
          "output_type": "stream",
          "name": "stdout",
          "text": [
            "— Только ситхи мыслят о вечной жизни и воскрешении.\n",
            "Source: Мастер, тогрута и тогрута - stratching in the sky (https://ficbook.net/readfic/10332769/35726040#part_content)\n",
            "\n",
            "— Энакин ситх?\n",
            "Source: Мастер, тогрута и тогрута - stratching in the sky (https://ficbook.net/readfic/10332769/35726040#part_content)\n",
            "\n",
            "Магия ситхов?\n",
            "Source: Мастер, тогрута и тогрута - stratching in the sky (https://ficbook.net/readfic/10332769/35726040#part_content)\n",
            "\n",
            "— А ты…— Я это я. Не клон, подделка ситхов или еще что-то, что ты можешь напридумывать.\n",
            "Source: Мастер, тогрута и тогрута - stratching in the sky (https://ficbook.net/readfic/10332769/35726040#part_content)\n",
            "\n",
            "Об этом кричала Сила, яркая от присутствия стольких джедаев, не окровавленная миллиардами жертв и все еще не посрамленная зверствами ситхов.\n",
            "Source: Добро пожаловать домой - stratching in the sky (https://ficbook.net/readfic/10332769/35761481#part_content)\n",
            "\n",
            "Смерть падавана Тано была Ситху на руку, открывала для него новые перспективы и позволяла ускорить падение Скауйокера.\n",
            "Source: Добро пожаловать домой - stratching in the sky (https://ficbook.net/readfic/10332769/35761481#part_content)\n",
            "\n",
            "Хардкейс заливал всем, что видел лото-волка на одном из холмов (холм, кстати, был наиотвеснейший и притом гладкий, но как пресловутая животинка туда забралась, он не уточнил), Джесси выгонял лото-котов из подвала, которые, видимо, решили, что Сопротивление — это какая-то волонтерская организация по подкармливанию животных дикой природы, а Кикс возмущался на тему: «Почему, блин, на этом гребаном Лотале ко всем гребаным животным прибавляется гребаная приставка «ло́то», ситх их всех загреби».\n",
            "Source: О возможностях Силы и чипов-ингибиторов - Ёкарная Бабайка (https://ficbook.net/readfic/12931291/33405933#part_content)\n",
            "\n",
            "— Да какой «дубу дал», ситх возьми!\n",
            "Source: О том, как Пятерочка выручает и как Пятёрочку выручают - Ёкарная Бабайка (https://ficbook.net/readfic/12931291/33452850#part_content)\n",
            "\n",
            "Он уже успел вбить координаты Орл Мартелла — ну и жопа, честно, это даже дальше, чем, ситх его побери, причем в прямом смысле, Мустафар!\n",
            "Source: О том, как Пятерочка выручает и как Пятёрочку выручают - Ёкарная Бабайка (https://ficbook.net/readfic/12931291/33452850#part_content)\n",
            "\n",
            "Еще бы, ведь перед ней — ситх, преступница и вообще сомнительная личность — Асажж Вентресс.\n",
            "Source: О том, почему у Асоки фамилия «Непей-Пиво» и причём тут Асажж - Ёкарная Бабайка (https://ficbook.net/readfic/12931291/33486905#part_content)\n",
            "\n",
            "Торгута никогда не представляла, что окажется в такой странной ситуации — на самом дне и за компанию с бывшим ситхом.\n",
            "Source: О том, почему у Асоки фамилия «Непей-Пиво» и причём тут Асажж - Ёкарная Бабайка (https://ficbook.net/readfic/12931291/33486905#part_content)\n",
            "\n",
            "Бывшие клоны отнеслись к ней с недоверием, но потом Хардкейс сказал, что теперь у них в Сопротивлении есть свой ситх и они уж точно нагнут Империю, и всё сделали вывод, что мыслит он правильно.\n",
            "Source: О том, почему у Асоки фамилия «Непей-Пиво» и причём тут Асажж - Ёкарная Бабайка (https://ficbook.net/readfic/12931291/33486905#part_content)\n",
            "\n",
            "Зайцы многим кажутся милыми, но здесь он выглядит так, как будто прошел все без исключения битвы Войн клонов, сразился с каждым гребаным ситхом в этой Галактике одновременно, а теперь еще и неожиданно стал мамкой для вечно орущих малолетних копий Энакина (в разных аспектах).\n",
            "Source: О том, что такое «Гасите световой меч» - Ёкарная Бабайка (https://ficbook.net/readfic/12931291/34440751#part_content)\n",
            "\n",
            "Конечно, в масштабах места, где собрались поехавшие клоны, ситхи, джедаи и бездомные лото-коты, слово «спокойно» в целом не применимо, но все же.\n",
            "Source: О том, что война эта ваша нахрен никому не сдалась - Ёкарная Бабайка (https://ficbook.net/readfic/12931291/35177319#part_content)\n",
            "\n",
            "Ситх странно зашипела и отпрыгнула назад в попытках защититься, но место для отступления кончилось.\n",
            "Source: Осквернённый монастырь - Мистер Вульф (https://ficbook.net/readfic/13710114/35127666#part_content)\n",
            "\n",
            "Но это вряд ли имело значение, ведь ситх снова теснила его куда-то к стене, выводя на поединок один на один.\n",
            "Source: Осквернённый монастырь - Мистер Вульф (https://ficbook.net/readfic/13710114/35127666#part_content)\n",
            "\n",
            "Этого пинка хватило, чтобы сбить солдата с ног, и ситх уже хотела воткнуть клинок в грудь бойцу, но Леший вовремя очухался и откатился в сторону.\n",
            "Source: Осквернённый монастырь - Мистер Вульф (https://ficbook.net/readfic/13710114/35127666#part_content)\n",
            "\n",
            "- Ты абсолютно ничего не сделал, чтобы спасти своих братьев из ордена, почти не участвовал в войне клонов, ты никак не действовал против ситхов, ты не помог вернуть орден джедаев.\n",
            "Source: Смерть и перерождение - Постмодерн (https://ficbook.net/readfic/0189933d-b420-7d6e-bb33-e92fb5d567fd/35173012#part_content)\n",
            "\n",
            "Были лишь неподтвержденные слухи о существовании ситхов и колебания в силе и все.\n",
            "Source: Будни падавана - Постмодерн (https://ficbook.net/readfic/0189933d-b420-7d6e-bb33-e92fb5d567fd/35269449#part_content)\n",
            "\n",
            "Твой потенциал безграничен, ты бы мог стать величайшим ситхом за всю историю галактики, а вместо этого просиживал свой талант и потенциал.\n",
            "Source: Будни падавана - Постмодерн (https://ficbook.net/readfic/0189933d-b420-7d6e-bb33-e92fb5d567fd/35269449#part_content)\n",
            "\n",
            "Хотя, всего год назад произошло интересное событие: Джедаи наконец узнали, что ситхи вернулись.\n",
            "Source: Будни падавана - Постмодерн (https://ficbook.net/readfic/0189933d-b420-7d6e-bb33-e92fb5d567fd/35269449#part_content)\n",
            "\n",
            "Тем более, он же не станет ситхом прямо сейчас?\n",
            "Source: Будни падавана - Постмодерн (https://ficbook.net/readfic/0189933d-b420-7d6e-bb33-e92fb5d567fd/35269449#part_content)\n",
            "\n",
            "Ты предал джедаев, стал рабом ситхов и убил своего учителя, я был бы не против отомстить за нее... - Джедаи не убивают и месть - не путь для джедая.\n",
            "Source: Будни падавана - Постмодерн (https://ficbook.net/readfic/0189933d-b420-7d6e-bb33-e92fb5d567fd/35269449#part_content)\n",
            "\n",
            "- Сдайся... ты же просто раб ситхов.\n",
            "Source: Будни падавана - Постмодерн (https://ficbook.net/readfic/0189933d-b420-7d6e-bb33-e92fb5d567fd/35269449#part_content)\n",
            "\n",
            "Он думал, что канцлер либо хочет избавиться от него, либо это одна большая проверка от Лорда Ситхов.\n",
            "Source: Пленение - Постмодерн (https://ficbook.net/readfic/0189933d-b420-7d6e-bb33-e92fb5d567fd/35570267#part_content)\n",
            "\n",
            "-Ты ситх, или джедай?\n",
            "Source: Добро пожаловать на \"ексель 6Б6Т\" - Timkha (https://ficbook.net/readfic/13550055/34725454#part_content)\n",
            "\n",
            "\"Клан ситхов\".\n",
            "Source: 13 кланов. - Timkha (https://ficbook.net/readfic/13550055/34735237#part_content)\n",
            "\n",
            "Ведь на мой клан и так на данный момент очень много нападает \"Клан ситхов\".\n",
            "Source: 13 кланов. - Timkha (https://ficbook.net/readfic/13550055/34735237#part_content)\n",
            "\n",
            "Хотя половина из них подвергается нападению \"Клана ситхов\", и \"Клана конфедерации монолита\".\n",
            "Source: 13 кланов. - Timkha (https://ficbook.net/readfic/13550055/34735237#part_content)\n",
            "\n",
            "-Вам доставляют проблемы ситхи?\n",
            "Source: 13 кланов. - Timkha (https://ficbook.net/readfic/13550055/34735237#part_content)\n",
            "\n",
            "-Мы особо сейчас не строим, потому что мы страдаем от нападения \"Клана ситхов\".\n",
            "Source: Битва. - Timkha (https://ficbook.net/readfic/13550055/34741684#part_content)\n",
            "\n",
            "Клан «Ситхов\" и «Конфедерация Монолита» нам меньше геморроя доставляют, чем эти чертополохи.\n",
            "Source: Деревня скрытая за стеной Мария. - Timkha (https://ficbook.net/readfic/13550055/35522153#part_content)\n",
            "\n",
            "Что-то, чего я не чувствовал с тех пор, как... » Закованный в броню Повелитель ситхов повернулся и пошел прочь, он пока позволит старику играть в свои игры, фигуры наконец-то встали на свои места.\n",
            "Source: Давным-давно в далекой-далекой галактике... (Star Wars IV A New Hope) - H-eon (https://ficbook.net/readfic/13030645/34078588#part_content)\n",
            "\n",
            "— заметил владыка ситх, взглянув на хозяина кабинета.\n",
            "Source: Высокий совет - Krosskun (https://ficbook.net/readfic/4720276/12233543#part_content)\n",
            "\n",
            "— ситх склонился над голокартой, которая отражалась от тёмных линз визоров его шлема.\n",
            "Source: Высокий совет - Krosskun (https://ficbook.net/readfic/4720276/12233543#part_content)\n",
            "\n",
            "— приказал адъютанту гранд-мофф, когда ситх скрылся за закрывшимися створками дверей.\n",
            "Source: Высокий совет - Krosskun (https://ficbook.net/readfic/4720276/12233543#part_content)\n",
            "\n",
            "Выйдя в центр, стоя напротив лорда ситхов и властелина всей известной галактики, седовласый флотоводец глубоко вздохнул, прежде чем начать свою речь, чеканя каждое слово.\n",
            "Source: Высокий совет - Krosskun (https://ficbook.net/readfic/4720276/12233543#part_content)\n",
            "\n",
            "— была ли то стальная выдержка, или бездонный фатализм, сказать было сложно, но в отличии от своего начальника, Элез не показывал страха, стоя прямо и глядя в глаза всесильному владыке-ситху.\n",
            "Source: Высокий совет - Krosskun (https://ficbook.net/readfic/4720276/12233543#part_content)\n",
            "\n",
            "Здесь он был не могучим лордом ситхов, правой рукой Императора, а пером, что кружилось в потоках Силы.\n",
            "Source: Новые тактические приёмы - Krosskun (https://ficbook.net/readfic/4720276/12234981#part_content)\n",
            "\n",
            "Но кроме лорда ситхов мало кто может добиться столь же впечатляющих результатов.\n",
            "Source: Новые тактические приёмы - Krosskun (https://ficbook.net/readfic/4720276/12234981#part_content)\n",
            "\n",
            "Зайти в слепую зону тому, кто крутится как уж на сковородке, чертовски сложно, но лорду ситхов это не нужно.\n",
            "Source: Новые тактические приёмы - Krosskun (https://ficbook.net/readfic/4720276/12234981#part_content)\n",
            "\n",
            "Им навстречу уже разворачивались турели, начиная выплёвывать потоки стали и энергии, когда внезапная вспышка боли пронзила изувеченное тело лорда ситхов.\n",
            "Source: Новые тактические приёмы - Krosskun (https://ficbook.net/readfic/4720276/12234981#part_content)\n",
            "\n",
            "Двое ситхов словно изучали реакцию друг друга.\n",
            "Source: Места в партере - Krosskun (https://ficbook.net/readfic/4720276/12240660#part_content)\n",
            "\n",
            "Всемогущий владыка ситхов отчётливо чувствовал центр возмущений на каждом вражеском звездолёте, но большинство из них были довольно незначительны.\n",
            "Source: Слово о хитрости - Krosskun (https://ficbook.net/readfic/4720276/12245253#part_content)\n",
            "\n",
            "Сила текла могучим потоком, наполняя владыку ситхов потоками от его ученика и адептов, даруя поистине космические возможности.\n",
            "Source: Слово о хитрости - Krosskun (https://ficbook.net/readfic/4720276/12245253#part_content)\n",
            "\n",
            "Словно и не было тут нескольких ситхов.\n",
            "Source: Слово о хитрости - Krosskun (https://ficbook.net/readfic/4720276/12245253#part_content)\n",
            "\n",
            "— наставительно произнёс лорд ситхов, не отрываясь глядя на голограмму битвы.\n",
            "Source: Когда выбора нет - Krosskun (https://ficbook.net/readfic/4720276/12245411#part_content)\n",
            "\n",
            "Расправа над лидерами была очень эффектна, и посеяла страх в сердца джедаев и ситхов.\n",
            "Source: Когда выбора нет - Krosskun (https://ficbook.net/readfic/4720276/12245411#part_content)\n",
            "\n",
            "И старый ситх, что сейчас сидел рядом, просыпался бы по ночам в холодном поту только от одной мысли о том, что где-то в галактике черноту космоса рассекает такой корабль.\n",
            "Source: Неожиданный поворот - Krosskun (https://ficbook.net/readfic/4720276/12246071#part_content)\n",
            "\n",
            "Стоявшая за его спиной четвёрка в точно таких же мантиях, украшенных рисунком звёздной бездны склонилась ещё глубже, приветствуя повелителя всех ситхов и властелина галактики.\n",
            "Source: Эхо грядущего - Krosskun (https://ficbook.net/readfic/4720276/12251120#part_content)\n",
            "\n",
            "— с нажимом произнёс лорд ситхов.\n",
            "Source: Эхо грядущего - Krosskun (https://ficbook.net/readfic/4720276/12251120#part_content)\n",
            "\n",
            "— ответил ситх.\n",
            "Source: Эхо грядущего - Krosskun (https://ficbook.net/readfic/4720276/12251120#part_content)\n",
            "\n",
            "— кивнул владыка ситхов.\n",
            "Source: Эхо грядущего - Krosskun (https://ficbook.net/readfic/4720276/12251120#part_content)\n",
            "\n",
            "Но владыку ситхов куда сильнее волновали те возмущения в Силе, что сопровождали эти корабли.\n",
            "Source: Универсальный ответ - Krosskun (https://ficbook.net/readfic/4720276/12256544#part_content)\n",
            "\n",
            "То, что даже древним лордам ситхов казалось почти невозможным, становилось реальностью.\n",
            "Source: Универсальный ответ - Krosskun (https://ficbook.net/readfic/4720276/12256544#part_content)\n",
            "\n",
            "Именно в этот момент старый ситх почувствовал уже давно позабытые страх и ужас.\n",
            "Source: Универсальный ответ - Krosskun (https://ficbook.net/readfic/4720276/12256544#part_content)\n",
            "\n",
            "Нам же следует сосредоточиться на…Слова комом встали поперёк горла владыки ситхов, когда он без каких-либо приборов ощутил невероятно мощный всплеск в Силе на другой стороне планеты.\n",
            "Source: Универсальный ответ - Krosskun (https://ficbook.net/readfic/4720276/12256544#part_content)\n",
            "\n",
            "— с нажимом спросил лорд ситхов.\n",
            "Source: Эскалация - Krosskun (https://ficbook.net/readfic/4720276/12437204#part_content)\n",
            "\n",
            "— не обращая внимания на недовольный ропот продолжал вещать лорд ситхов —  Для этого вам будет придана осадная станция \"Око\".\n",
            "Source: Эскалация - Krosskun (https://ficbook.net/readfic/4720276/12437204#part_content)\n",
            "\n",
            "Но, с другой стороны, ничто не сдерживало их псионический потенциал, отчего любой псайкер на порядки превосходил по силе изначально равного ему по потенциалу магистра джедая или лорда ситхов.\n",
            "Source: Старые знакомые - Krosskun (https://ficbook.net/readfic/4720276/16493415#part_content)\n",
            "\n",
            "— Я нахожу такую самоуверенность, пшш, опасной... Опасения лорда ситхов не были беспочвенны.\n",
            "Source: Совершенство и смерть - Krosskun (https://ficbook.net/readfic/4720276/20213615#part_content)\n",
            "\n",
            "Таркину было неведомо то, как именно проходили данные события, потому как сам Император отказал гранд-моффу в просьбе получить все данные о планете, которую старый ситх указал как цель первостепенной необходимости уничтожения, на которой можно осуществить боевые испытания практически вчера достроенного прототипа.\n",
            "Source: Совершенство и смерть - Krosskun (https://ficbook.net/readfic/4720276/20213615#part_content)\n",
            "\n",
            "Даже обуреваемые страстями и порывами эмоций ситхи не смели отрицать эту прописную истину.\n",
            "Source: Порочащие связи - Krosskun (https://ficbook.net/readfic/4720276/20166320#part_content)\n",
            "\n",
            "Ситхи не пощадили никого, даже юнглингов в храме, и до сих пор продолжали охоту на тех, кому посчастливилось выжить.\n",
            "Source: Парад неожиданностей - Krosskun (https://ficbook.net/readfic/4720276/22030996#part_content)\n",
            "\n",
            "К тому же клоны - слепое орудие в руках ситхов.\n",
            "Source: Парад неожиданностей - Krosskun (https://ficbook.net/readfic/4720276/22030996#part_content)\n",
            "\n",
            "Лишь ей может быть ведомо, станет ли Люк новым джедаем впервые за многие годы, и суждено ли ему сразить Палпатина и его империю ситхов.\n",
            "Source: Путь к кооперации - Krosskun (https://ficbook.net/readfic/4720276/25263643#part_content)\n",
            "\n",
            "Было очевидно, что Дарт Сидиус в худших и древнейших традициях ситхов насаждал свою власть силой, жестокостью и страхом перед карой за любое неповиновение, не гнушаясь варварских методов, от которых воздерживались даже сепаратисты.\n",
            "Source: Путь к кооперации - Krosskun (https://ficbook.net/readfic/4720276/25263643#part_content)\n",
            "\n",
            "Тирания ситхов расцвела в галактике за минувшие пятнадцать лет буйным цветом, отравив всё вокруг корнями Темной Стороны.\n",
            "Source: Путь к кооперации - Krosskun (https://ficbook.net/readfic/4720276/25263643#part_content)\n",
            "\n",
            "Ни один ситх не дошёл до того, чтобы провозгласить себя живым богом в галактических масштабах, и даже Палпатину не хватило бы гордыни и наглости требовать к себе такого поклонения.\n",
            "Source: Путь к кооперации - Krosskun (https://ficbook.net/readfic/4720276/25263643#part_content)\n",
            "\n",
            "Ни один ситх не решился бы на столь немыслимую жестокость, что творили эти чужаки повсюду.\n",
            "Source: Путь к кооперации - Krosskun (https://ficbook.net/readfic/4720276/25263643#part_content)\n",
            "\n",
            "Нечто ужасное раз за разом творило невообразимо чудовищные вещи с планетами, на которые попадало, и ситх не видел иного выхода кроме как уничтожить порождение Мрака вместе с теми мирами и существами, чьей жертвой они стали.\n",
            "Source: Путь к кооперации - Krosskun (https://ficbook.net/readfic/4720276/25263643#part_content)\n",
            "\n",
            "Буря страстей, терзающая самого порочного из владык ситхов, казалась полным штилем на фоне порывов, что владели этими проклятыми душами.\n",
            "Source: Путь к кооперации - Krosskun (https://ficbook.net/readfic/4720276/25263643#part_content)\n",
            "\n",
            "Сколь бы порочны ни были ситхи, им всё же было не чуждо познание и созидание, пусть они и ставили его на службу своим низменным желаниям.\n",
            "Source: Путь к кооперации - Krosskun (https://ficbook.net/readfic/4720276/25263643#part_content)\n",
            "\n",
            "Это понимал и престарелый великий магистр, и отчаянно пытающийся сохранить свою власть над галактикой владыка ситхов.\n",
            "Source: Путь к кооперации - Krosskun (https://ficbook.net/readfic/4720276/25263643#part_content)\n",
            "\n"
          ]
        }
      ]
    },
    {
      "cell_type": "code",
      "source": [
        "search('знать+NOUN')"
      ],
      "metadata": {
        "colab": {
          "base_uri": "https://localhost:8080/"
        },
        "id": "BhGaHzCw_U05",
        "outputId": "5f8bbce7-2873-4ca0-cf29-c107f2701a34"
      },
      "execution_count": 118,
      "outputs": [
        {
          "output_type": "stream",
          "name": "stdout",
          "text": [
            "— Хм, эти мундиры и оружие весьма древние, я думаю, они относятся к временам старой знати.\n",
            "Source: Бессмысленный меч (Rurouni Kenshin (фильм)) - H-eon (https://ficbook.net/readfic/13030645/33589158#part_content)\n",
            "\n"
          ]
        }
      ]
    }
  ],
  "metadata": {
    "colab": {
      "provenance": []
    },
    "kernelspec": {
      "display_name": "Python 3",
      "name": "python3"
    },
    "language_info": {
      "name": "python"
    }
  },
  "nbformat": 4,
  "nbformat_minor": 0
}